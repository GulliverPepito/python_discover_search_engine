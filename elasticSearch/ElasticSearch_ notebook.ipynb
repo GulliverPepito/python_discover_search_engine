{
 "cells": [
  {
   "cell_type": "code",
   "execution_count": 1,
   "metadata": {
    "collapsed": false
   },
   "outputs": [
    {
     "name": "stdout",
     "output_type": "stream",
     "text": [
      "b'{\\n  \"name\" : \"avd6PWG\",\\n  \"cluster_name\" : \"elasticsearch\",\\n  \"cluster_uuid\" : \"G_7KMO-jTrKJCljm3w3Fvg\",\\n  \"version\" : {\\n    \"number\" : \"5.5.2\",\\n    \"build_hash\" : \"b2f0c09\",\\n    \"build_date\" : \"2017-08-14T12:33:14.154Z\",\\n    \"build_snapshot\" : false,\\n    \"lucene_version\" : \"6.6.0\"\\n  },\\n  \"tagline\" : \"You Know, for Search\"\\n}\\n'\n"
     ]
    }
   ],
   "source": [
    "# make sure ElasticSearch is up and running\n",
    "import requests\n",
    "res = requests.get('http://localhost:9200')\n",
    "print(res.content)"
   ]
  },
  {
   "cell_type": "code",
   "execution_count": 2,
   "metadata": {
    "collapsed": false
   },
   "outputs": [],
   "source": [
    "#connect to our cluster\n",
    "from elasticsearch import Elasticsearch\n",
    "es = Elasticsearch([{'host': 'localhost', 'port': 9200}])"
   ]
  },
  {
   "cell_type": "code",
   "execution_count": 3,
   "metadata": {
    "collapsed": false
   },
   "outputs": [
    {
     "data": {
      "text/plain": [
       "{'_id': '1',\n",
       " '_index': 'test-index',\n",
       " '_shards': {'failed': 0, 'successful': 1, 'total': 2},\n",
       " '_type': 'test',\n",
       " '_version': 1,\n",
       " 'created': True,\n",
       " 'result': 'created'}"
      ]
     },
     "execution_count": 3,
     "metadata": {},
     "output_type": "execute_result"
    }
   ],
   "source": [
    "#index some test data\n",
    "es.index(index='test-index', doc_type='test', id=1, body={'test': 'test'})"
   ]
  },
  {
   "cell_type": "code",
   "execution_count": 4,
   "metadata": {
    "collapsed": false
   },
   "outputs": [
    {
     "data": {
      "text/plain": [
       "{'_id': '1',\n",
       " '_index': 'test-index',\n",
       " '_shards': {'failed': 0, 'successful': 1, 'total': 2},\n",
       " '_type': 'test',\n",
       " '_version': 2,\n",
       " 'found': True,\n",
       " 'result': 'deleted'}"
      ]
     },
     "execution_count": 4,
     "metadata": {},
     "output_type": "execute_result"
    }
   ],
   "source": [
    "#delete test data\n",
    "es.delete(index='test-index', doc_type='test', id=1)\n"
   ]
  },
  {
   "cell_type": "code",
   "execution_count": 27,
   "metadata": {
    "collapsed": false
   },
   "outputs": [
    {
     "data": {
      "text/plain": [
       "{'_id': '2',\n",
       " '_index': 'pycones',\n",
       " '_shards': {'failed': 0, 'successful': 1, 'total': 2},\n",
       " '_type': 'talk',\n",
       " '_version': 2,\n",
       " 'created': False,\n",
       " 'result': 'updated'}"
      ]
     },
     "execution_count": 27,
     "metadata": {},
     "output_type": "execute_result"
    }
   ],
   "source": [
    "es.index(index='pycones', doc_type='talk', id=2, body={\n",
    "\t\"title\": \"Discovering python search engine\",\n",
    "\t\"description\": \"Used everyday when using Google, Bing or Yahoo\"\n",
    "})"
   ]
  },
  {
   "cell_type": "code",
   "execution_count": 28,
   "metadata": {
    "collapsed": false
   },
   "outputs": [
    {
     "data": {
      "text/plain": [
       "{'_id': '2',\n",
       " '_index': 'pycones',\n",
       " '_source': {'description': 'Used everyday when using Google, Bing or Yahoo',\n",
       "  'title': 'Discovering python search engine'},\n",
       " '_type': 'talk',\n",
       " '_version': 2,\n",
       " 'found': True}"
      ]
     },
     "execution_count": 28,
     "metadata": {},
     "output_type": "execute_result"
    }
   ],
   "source": [
    "es.get(index='pycones', doc_type='talk', id=2)"
   ]
  },
  {
   "cell_type": "code",
   "execution_count": 29,
   "metadata": {
    "collapsed": false
   },
   "outputs": [
    {
     "data": {
      "text/plain": [
       "{'_shards': {'failed': 0, 'successful': 5, 'total': 5},\n",
       " 'hits': {'hits': [{'_id': '2',\n",
       "    '_index': 'pycones',\n",
       "    '_score': 1.0,\n",
       "    '_source': {'description': 'Used everyday when using Google, Bing or Yahoo',\n",
       "     'title': 'Discovering python search engine'},\n",
       "    '_type': 'talk'},\n",
       "   {'_id': '1',\n",
       "    '_index': 'pycones',\n",
       "    '_score': 1.0,\n",
       "    '_source': {'description': 'Full text search with python',\n",
       "     'title': 'Discovering python search engine'},\n",
       "    '_type': 'talk'}],\n",
       "  'max_score': 1.0,\n",
       "  'total': 2},\n",
       " 'timed_out': False,\n",
       " 'took': 111}"
      ]
     },
     "execution_count": 29,
     "metadata": {},
     "output_type": "execute_result"
    }
   ],
   "source": [
    "#seach by title\n",
    "es.search(index=\"pycones\", body={\"query\": {\"prefix\" : { \"title\" : \"engine\" }}})"
   ]
  },
  {
   "cell_type": "code",
   "execution_count": 40,
   "metadata": {
    "collapsed": false
   },
   "outputs": [
    {
     "data": {
      "text/plain": [
       "{'_shards': {'failed': 0, 'successful': 5, 'total': 5},\n",
       " 'hits': {'hits': [{'_id': '2',\n",
       "    '_index': 'pycones',\n",
       "    '_score': 0.25811607,\n",
       "    '_source': {'description': 'Used everyday when using Google, Bing or Yahoo',\n",
       "     'title': 'Discovering python search engine'},\n",
       "    '_type': 'talk'}],\n",
       "  'max_score': 0.25811607,\n",
       "  'total': 1},\n",
       " 'timed_out': False,\n",
       " 'took': 2}"
      ]
     },
     "execution_count": 40,
     "metadata": {},
     "output_type": "execute_result"
    }
   ],
   "source": [
    "#search by description\n",
    "es.search(index=\"pycones\", body={\"query\": {\"match\" : { \"description\" : \"Google\" }}})"
   ]
  }
 ],
 "metadata": {
  "kernelspec": {
   "display_name": "Python 3",
   "language": "python",
   "name": "python3"
  },
  "language_info": {
   "codemirror_mode": {
    "name": "ipython",
    "version": 3
   },
   "file_extension": ".py",
   "mimetype": "text/x-python",
   "name": "python",
   "nbconvert_exporter": "python",
   "pygments_lexer": "ipython3",
   "version": "3.6.0"
  }
 },
 "nbformat": 4,
 "nbformat_minor": 0
}
